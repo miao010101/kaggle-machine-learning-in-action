{
 "cells": [
  {
   "cell_type": "code",
   "id": "initial_id",
   "metadata": {
    "collapsed": true,
    "ExecuteTime": {
     "end_time": "2024-08-19T06:29:34.473939Z",
     "start_time": "2024-08-19T06:29:34.469665Z"
    }
   },
   "source": [
    "# 基础配置\n",
    "import numpy as np\n",
    "import pandas as pd\n",
    "import matplotlib.pyplot as plt\n",
    "from sklearn.model_selection import train_test_split\n",
    "import torch\n",
    "import torch.nn as nn\n",
    "import torch.optim as optim\n",
    "import torch.nn.functional as F\n",
    "from torchvision import transforms\n",
    "from torch.utils.data import Dataset, DataLoader, random_split\n",
    "\n",
    "plt.rcParams['font.sans-serif'] = ['SimHei']\n",
    "plt.rcParams['axes.unicode_minus'] = False\n",
    "plt.style.use('seaborn-v0_8')\n",
    "\n",
    "device = torch.device('cuda' if torch.cuda.is_available() else 'cpu')"
   ],
   "outputs": [],
   "execution_count": 14
  },
  {
   "metadata": {
    "ExecuteTime": {
     "end_time": "2024-08-19T06:36:50.387374Z",
     "start_time": "2024-08-19T06:36:50.382944Z"
    }
   },
   "cell_type": "code",
   "source": [
    "class ImageDatasetFromCSV(Dataset):\n",
    "    def __init__(self, dataframe, labeled=True, image_shape=None, transform=None):\n",
    "        \"\"\" \n",
    "        dataframe: 预先读取的 pandas DataFrame \n",
    "        labeled: 布尔值，指示数据集是否包含标签 \n",
    "        image_shape: 图像的形状，默认为 None。如果提供，则应该是 (height, width, channels) 格式 \n",
    "        transform: 可选的图像转换操作 \n",
    "        \"\"\"\n",
    "        self.df = dataframe\n",
    "        self.transform = transform\n",
    "        self.labeled = labeled\n",
    "\n",
    "        if labeled:\n",
    "            # 如果有标签，分开提取图像和标签数据\n",
    "            self.images = self.df.iloc[:, 1:].values.astype(np.uint8)  # 跳过第一列（标签）\n",
    "            self.labels = self.df.iloc[:, 0].values\n",
    "        else:\n",
    "            # 如果没有标签，提取所有图像数据\n",
    "            self.images = self.df.values.astype(np.uint8)\n",
    "        \n",
    "        if image_shape is None:\n",
    "            # 自动推断图像形状，假设为正方形灰度图像\n",
    "            num_pixels = self.images.shape[1]\n",
    "            side_length = int(np.sqrt(num_pixels))\n",
    "            self.image_shape = (side_length, side_length, 1)\n",
    "        else:\n",
    "            self.image_shape = image_shape\n",
    "\n",
    "    def __len__(self):\n",
    "        return len(self.images)\n",
    "\n",
    "    def __getitem__(self, idx):\n",
    "        # 获取图像并按照指定的形状进行重塑\n",
    "        image = self.images[idx].reshape(self.image_shape)\n",
    "        \n",
    "        if self.transform:\n",
    "            image = self.transform(image)\n",
    "        else:\n",
    "            image = torch.tensor(image / 255.0, dtype=torch.float)\n",
    "        \n",
    "        if self.labeled:\n",
    "            label = int(self.labels[idx])\n",
    "            label = torch.tensor(label, dtype=torch.long)\n",
    "            return image, label\n",
    "        else:\n",
    "            return image"
   ],
   "id": "efb2d800607d6b71",
   "outputs": [],
   "execution_count": 30
  },
  {
   "metadata": {
    "ExecuteTime": {
     "end_time": "2024-08-19T06:29:35.536506Z",
     "start_time": "2024-08-19T06:29:34.488780Z"
    }
   },
   "cell_type": "code",
   "source": [
    "image_shape = (28,28,1)\n",
    "trans = transforms.ToTensor()\n",
    "df_train = pd.read_csv(\"../data/train.csv\")\n",
    "data_train = ImageDatasetFromCSV(df_train, labeled=True,image_shape=image_shape,transform=trans)"
   ],
   "id": "fb9d4c7ba2b18d06",
   "outputs": [],
   "execution_count": 16
  },
  {
   "metadata": {
    "ExecuteTime": {
     "end_time": "2024-08-19T06:29:35.541864Z",
     "start_time": "2024-08-19T06:29:35.537505Z"
    }
   },
   "cell_type": "code",
   "source": [
    "# 假设你要将数据集 80% 用于训练，20% 用于验证\n",
    "train_size = int(0.8 * len(data_train))\n",
    "test_size = len(data_train) - train_size\n",
    "train_data, test_data = random_split(data_train, [train_size, test_size])"
   ],
   "id": "a7c15b7e46b4daa1",
   "outputs": [],
   "execution_count": 17
  },
  {
   "metadata": {
    "ExecuteTime": {
     "end_time": "2024-08-19T06:29:35.561295Z",
     "start_time": "2024-08-19T06:29:35.542862Z"
    }
   },
   "cell_type": "code",
   "source": [
    "batch_size = 32\n",
    "train_iter = DataLoader(train_data, batch_size, shuffle=True)\n",
    "test_iter = DataLoader(test_data, batch_size, shuffle=False)"
   ],
   "id": "65c2e3909f822bf6",
   "outputs": [],
   "execution_count": 18
  },
  {
   "metadata": {
    "ExecuteTime": {
     "end_time": "2024-08-19T06:29:35.572366Z",
     "start_time": "2024-08-19T06:29:35.562294Z"
    }
   },
   "cell_type": "code",
   "source": [
    "for X,y in train_iter:\n",
    "        print(X.shape, y.shape)\n",
    "        break"
   ],
   "id": "7f015efe939bb2bd",
   "outputs": [
    {
     "name": "stdout",
     "output_type": "stream",
     "text": [
      "torch.Size([32, 1, 28, 28]) torch.Size([32])\n"
     ]
    }
   ],
   "execution_count": 19
  },
  {
   "metadata": {
    "ExecuteTime": {
     "end_time": "2024-08-19T06:29:35.580396Z",
     "start_time": "2024-08-19T06:29:35.574363Z"
    }
   },
   "cell_type": "code",
   "source": [
    "net = nn.Sequential(nn.Flatten(), nn.Linear(28*28,10))\n",
    "\n",
    "def init_weights(m):\n",
    "    if type(m) == nn.Linear:\n",
    "        nn.init.normal_(m.weight, std=0.01)\n",
    "        \n",
    "net.apply(init_weights)"
   ],
   "id": "32b950ac48d49d71",
   "outputs": [
    {
     "data": {
      "text/plain": [
       "Sequential(\n",
       "  (0): Flatten(start_dim=1, end_dim=-1)\n",
       "  (1): Linear(in_features=784, out_features=10, bias=True)\n",
       ")"
      ]
     },
     "execution_count": 20,
     "metadata": {},
     "output_type": "execute_result"
    }
   ],
   "execution_count": 20
  },
  {
   "metadata": {
    "ExecuteTime": {
     "end_time": "2024-08-19T06:29:35.586813Z",
     "start_time": "2024-08-19T06:29:35.581397Z"
    }
   },
   "cell_type": "code",
   "source": "loss_fn = nn.CrossEntropyLoss(reduction='none')",
   "id": "d45aa6ef12008d27",
   "outputs": [],
   "execution_count": 21
  },
  {
   "metadata": {
    "ExecuteTime": {
     "end_time": "2024-08-19T06:29:35.596287Z",
     "start_time": "2024-08-19T06:29:35.587811Z"
    }
   },
   "cell_type": "code",
   "source": "trainer = torch.optim.Adam(net.parameters(), lr=0.001)",
   "id": "708045e7021f6a5f",
   "outputs": [],
   "execution_count": 22
  },
  {
   "metadata": {
    "ExecuteTime": {
     "end_time": "2024-08-19T06:30:01.746366Z",
     "start_time": "2024-08-19T06:29:35.597285Z"
    }
   },
   "cell_type": "code",
   "source": [
    "# 假设 train_iter 和 test_iter 是 DataLoader 对象\n",
    "num_epochs = 10\n",
    "for epoch in range(num_epochs):\n",
    "    net.train()  # 切换到训练模式\n",
    "    running_loss = 0.0\n",
    "    correct_train = 0\n",
    "    total_train = 0\n",
    "    \n",
    "    # 训练阶段\n",
    "    for image, label in train_iter:  # train_iter 是一个 DataLoader\n",
    "        # 前向传播\n",
    "        outputs = net(image)\n",
    "        loss = loss_fn(outputs, label).mean()  # 将 l 求平均值或求和\n",
    "        running_loss += loss.item()\n",
    "\n",
    "        # 反向传播和优化\n",
    "        trainer.zero_grad()\n",
    "        loss.backward()\n",
    "        trainer.step()\n",
    "\n",
    "        # 计算训练准确率\n",
    "        _, predicted = torch.max(outputs.data, 1)\n",
    "        total_train += label.size(0)\n",
    "        correct_train += (predicted == label).sum().item()\n",
    "\n",
    "    train_loss = running_loss / len(train_iter)\n",
    "    train_acc = correct_train / total_train\n",
    "    \n",
    "    # 验证阶段\n",
    "    net.eval()  # 切换到评估模式\n",
    "    correct_test = 0\n",
    "    total_test = 0\n",
    "    with torch.no_grad():  # 禁用梯度计算，因为这是验证阶段\n",
    "        total_loss = 0\n",
    "        for image, label in test_iter:  # test_iter 也是一个 DataLoader\n",
    "            outputs = net(image)\n",
    "            l = loss_fn(outputs, label).mean()\n",
    "            total_loss += l.item()\n",
    "\n",
    "            # 计算测试准确率\n",
    "            _, predicted = torch.max(outputs.data, 1)\n",
    "            total_test += label.size(0)\n",
    "            correct_test += (predicted == label).sum().item()\n",
    "\n",
    "    avg_loss = total_loss / len(test_iter)\n",
    "    test_acc = correct_test / total_test\n",
    "\n",
    "    # 打印每个 epoch 的训练损失、训练准确率和测试准确率\n",
    "    print(f'Epoch {epoch+1}, Train Loss: {train_loss:.4f}, Train Acc: {train_acc:.4f}, Test Loss: {avg_loss:.4f}, Test Acc: {test_acc:.4f}')"
   ],
   "id": "ff9817b98993102f",
   "outputs": [
    {
     "name": "stdout",
     "output_type": "stream",
     "text": [
      "Epoch 1, Train Loss: 0.5542, Train Acc: 0.8693, Test Loss: 0.3589, Test Acc: 0.9052\n",
      "Epoch 2, Train Loss: 0.3243, Train Acc: 0.9101, Test Loss: 0.3132, Test Acc: 0.9176\n",
      "Epoch 3, Train Loss: 0.2927, Train Acc: 0.9172, Test Loss: 0.3012, Test Acc: 0.9207\n",
      "Epoch 4, Train Loss: 0.2772, Train Acc: 0.9218, Test Loss: 0.2970, Test Acc: 0.9179\n",
      "Epoch 5, Train Loss: 0.2665, Train Acc: 0.9242, Test Loss: 0.2888, Test Acc: 0.9217\n",
      "Epoch 6, Train Loss: 0.2593, Train Acc: 0.9263, Test Loss: 0.2855, Test Acc: 0.9243\n",
      "Epoch 7, Train Loss: 0.2546, Train Acc: 0.9278, Test Loss: 0.2856, Test Acc: 0.9258\n",
      "Epoch 8, Train Loss: 0.2495, Train Acc: 0.9286, Test Loss: 0.2840, Test Acc: 0.9246\n",
      "Epoch 9, Train Loss: 0.2457, Train Acc: 0.9309, Test Loss: 0.2829, Test Acc: 0.9250\n",
      "Epoch 10, Train Loss: 0.2425, Train Acc: 0.9318, Test Loss: 0.2826, Test Acc: 0.9243\n"
     ]
    }
   ],
   "execution_count": 23
  },
  {
   "metadata": {
    "ExecuteTime": {
     "end_time": "2024-08-19T06:50:55.466654Z",
     "start_time": "2024-08-19T06:50:54.773839Z"
    }
   },
   "cell_type": "code",
   "source": [
    "# 读取测试数据\n",
    "df_test = pd.read_csv(\"../data/test.csv\")\n",
    "data_test = ImageDatasetFromCSV(df_test, labeled=False,image_shape=(28,28,1),transform=trans)\n",
    "iter_test = DataLoader(data_test, batch_size, shuffle=False)"
   ],
   "id": "40321e003a93cdf9",
   "outputs": [],
   "execution_count": 46
  },
  {
   "metadata": {
    "ExecuteTime": {
     "end_time": "2024-08-19T06:52:17.907066Z",
     "start_time": "2024-08-19T06:52:17.125010Z"
    }
   },
   "cell_type": "code",
   "source": [
    "net.eval()  # 切换到评估模式\n",
    "\n",
    "predictions = []\n",
    "with torch.no_grad():  # 禁用梯度计算\n",
    "    for images in iter_test:\n",
    "        outputs = net(images)  # 前向传播\n",
    "        _, predicted_classes = torch.max(outputs, 1)  # 获取每个样本的预测类别\n",
    "        predictions.extend(predicted_classes.cpu().numpy())  # 保存预测结果\n",
    "\n",
    "# 将预测结果转换为numpy数组\n",
    "predictions = np.array(predictions)"
   ],
   "id": "e10f8a28696ed297",
   "outputs": [],
   "execution_count": 48
  },
  {
   "metadata": {
    "ExecuteTime": {
     "end_time": "2024-08-19T06:59:27.541772Z",
     "start_time": "2024-08-19T06:59:27.538587Z"
    }
   },
   "cell_type": "code",
   "source": [
    "def Kaggle_submission(predictions,sample_path,result_path):\n",
    "    if sample_path:\n",
    "        if result_path:\n",
    "            data = pd.read_csv(sample_path)\n",
    "            data.iloc[:,-1] = predictions\n",
    "            print(data.head())\n",
    "            data.to_csv(result_path,index=False)\n",
    "            print(\"down\")\n",
    "        else:\n",
    "            print(\"no result path\")\n",
    "    else:\n",
    "        print(\"no sample path\")"
   ],
   "id": "1e8367f6a4631a45",
   "outputs": [],
   "execution_count": 51
  },
  {
   "metadata": {
    "ExecuteTime": {
     "end_time": "2024-08-19T06:59:28.187335Z",
     "start_time": "2024-08-19T06:59:28.167021Z"
    }
   },
   "cell_type": "code",
   "source": [
    "sample_path = '../data/sample_submission.csv'\n",
    "result_path = '../result/simple softmax.csv'\n",
    "Kaggle_submission(predictions,sample_path,result_path)"
   ],
   "id": "f7bf44fad06a4d8f",
   "outputs": [
    {
     "name": "stdout",
     "output_type": "stream",
     "text": [
      "   ImageId  Label\n",
      "0        1      2\n",
      "1        2      0\n",
      "2        3      9\n",
      "3        4      7\n",
      "4        5      3\n",
      "down\n"
     ]
    }
   ],
   "execution_count": 52
  },
  {
   "metadata": {},
   "cell_type": "code",
   "outputs": [],
   "execution_count": null,
   "source": "",
   "id": "880725088d0217b4"
  }
 ],
 "metadata": {
  "kernelspec": {
   "display_name": "Python 3",
   "language": "python",
   "name": "python3"
  },
  "language_info": {
   "codemirror_mode": {
    "name": "ipython",
    "version": 2
   },
   "file_extension": ".py",
   "mimetype": "text/x-python",
   "name": "python",
   "nbconvert_exporter": "python",
   "pygments_lexer": "ipython2",
   "version": "2.7.6"
  }
 },
 "nbformat": 4,
 "nbformat_minor": 5
}
